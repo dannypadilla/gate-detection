{
 "cells": [
  {
   "cell_type": "markdown",
   "metadata": {},
   "source": [
    "# SVM"
   ]
  },
  {
   "cell_type": "markdown",
   "metadata": {},
   "source": [
    "### Gather Training data\n",
    "2. OLD competition images\n",
    "3. NEW pool images/video (Jons Pool)\n",
    "4. Black and white images\n",
    "4. ALL images combined\n",
    "\n",
    "### Duplicate it all\n",
    "1. Rotate\n",
    "2. Something else"
   ]
  },
  {
   "cell_type": "markdown",
   "metadata": {},
   "source": [
    "*imports*"
   ]
  },
  {
   "cell_type": "code",
   "execution_count": 1,
   "metadata": {
    "collapsed": true
   },
   "outputs": [],
   "source": [
    "import cv2\n",
    "import numpy as np\n",
    "import pandas as pd\n",
    "from sklearn.model_selection import train_test_split\n",
    "from sklearn.svm import SVC\n",
    "from sklearn.metrics import classification_report, confusion_matrix, accuracy_score, confusion_matrix\n",
    "import os\n",
    "from matplotlib import pyplot as plt\n",
    "\n",
    "%matplotlib inline"
   ]
  },
  {
   "cell_type": "markdown",
   "metadata": {},
   "source": [
    "### Training Data"
   ]
  },
  {
   "cell_type": "markdown",
   "metadata": {},
   "source": [
    "*useful methods*"
   ]
  },
  {
   "cell_type": "code",
   "execution_count": 2,
   "metadata": {
    "collapsed": true
   },
   "outputs": [],
   "source": [
    "# returns a list of file names in a directory: cwd is default\n",
    "def get_dir_list(imgs_path):\n",
    "    dir_list = []\n",
    "    with os.scandir(imgs_path) as it: # from python3 docs\n",
    "        for entry in it:\n",
    "            if not entry.name.startswith(\".\") and entry.is_file:\n",
    "                dir_list.append(imgs_path + entry.name)\n",
    "    return dir_list\n",
    "\n",
    "# import images and append to a list\n",
    "def get_img_data(imgs_path):\n",
    "    img_list = []\n",
    "    for img in imgs_path:\n",
    "        img_list.append(cv2.imread(img) )\n",
    "    return img_list\n",
    "\n",
    "# read in each image (feature) and assign label\n",
    "def get_features_with_label(image_data, hog, dimensions, label):\n",
    "    data = []\n",
    "    for img in image_data:\n",
    "        image = cv2.resize(img, dimensions) # resize to proportion might help\n",
    "        feats = hog.compute(image[:, :, :])\n",
    "        data.append((feats, label) )\n",
    "    return data"
   ]
  },
  {
   "cell_type": "markdown",
   "metadata": {},
   "source": [
    "*import directory*"
   ]
  },
  {
   "cell_type": "code",
   "execution_count": 25,
   "metadata": {},
   "outputs": [
    {
     "data": {
      "image/png": "[encoded data removed]",
      "text/plain": [
       "<matplotlib.figure.Figure at 0x120f7e0b8>"
      ]
     },
     "metadata": {},
     "output_type": "display_data"
    },
    {
     "name": "stdout",
     "output_type": "stream",
     "text": [
      "Shape:  (80, 80, 3)\n"
     ]
    }
   ],
   "source": [
    "pos_image_path = \"../images/all_positive/\"\n",
    "neg_image_path = \"../images/all_negative/\"\n",
    "\n",
    "pos_img_list = get_dir_list(pos_image_path)\n",
    "neg_img_list = get_dir_list(neg_image_path)\n",
    "\n",
    "positive_images = get_img_data(pos_img_list)\n",
    "negative_images = get_img_data(neg_img_list)\n",
    "\n",
    "# show sample image\n",
    "image = cv2.cvtColor(positive_images[200], cv2.COLOR_BGR2RGB)\n",
    "plt.figure(figsize=(10, 6) )\n",
    "plt.imshow(image)\n",
    "plt.show()\n",
    "\n",
    "print(\"Shape: \", image.shape)"
   ]
  },
  {
   "cell_type": "markdown",
   "metadata": {},
   "source": [
    "*hog*"
   ]
  },
  {
   "cell_type": "code",
   "execution_count": 6,
   "metadata": {
    "collapsed": true
   },
   "outputs": [],
   "source": [
    "min_dim = 80\n",
    "block_size = (16, 16)\n",
    "block_stride = (8, 8)\n",
    "cell_size = (8, 8)\n",
    "bins = 9\n",
    "\n",
    "dimensions = (min_dim, min_dim)\n",
    "\n",
    "hog = cv2.HOGDescriptor(dimensions, block_size, block_stride, cell_size, bins)"
   ]
  },
  {
   "cell_type": "markdown",
   "metadata": {},
   "source": [
    "*extract features and assign labels*"
   ]
  },
  {
   "cell_type": "code",
   "execution_count": 7,
   "metadata": {
    "collapsed": true
   },
   "outputs": [],
   "source": [
    "# 1 is positive images -- 0 is negative\n",
    "p_images = get_features_with_label(positive_images, hog, dimensions, 1)\n",
    "n_images = get_features_with_label(negative_images, hog, dimensions, 0)"
   ]
  },
  {
   "cell_type": "markdown",
   "metadata": {},
   "source": [
    "*check*"
   ]
  },
  {
   "cell_type": "code",
   "execution_count": 8,
   "metadata": {},
   "outputs": [
    {
     "name": "stdout",
     "output_type": "stream",
     "text": [
      "Number of POSITIVE images: 257\n",
      "Number of NEGATIVE images: 505\n"
     ]
    }
   ],
   "source": [
    "print(\"Number of POSITIVE images:\", len(p_images) )\n",
    "print(\"Number of NEGATIVE images:\", len(n_images) )"
   ]
  },
  {
   "cell_type": "markdown",
   "metadata": {},
   "source": [
    "*combine positive and negative features and shuffle*"
   ]
  },
  {
   "cell_type": "code",
   "execution_count": 9,
   "metadata": {},
   "outputs": [
    {
     "name": "stdout",
     "output_type": "stream",
     "text": [
      "Total # of images: 762\n"
     ]
    }
   ],
   "source": [
    "imgs_df = p_images + n_images\n",
    "np.random.shuffle(imgs_df) # shuffle\n",
    "\n",
    "print(\"Total # of images:\", len(imgs_df) )"
   ]
  },
  {
   "cell_type": "markdown",
   "metadata": {},
   "source": [
    "*convert to dataframe and series*"
   ]
  },
  {
   "cell_type": "code",
   "execution_count": 10,
   "metadata": {
    "collapsed": true
   },
   "outputs": [],
   "source": [
    "feat, labels = map(list, zip(*imgs_df) )\n",
    "feat_flat = [x.flatten() for x in feat]\n",
    "\n",
    "X_df = pd.DataFrame(feat_flat) # convert to df\n",
    "y_df = pd.Series(labels) # convert to series"
   ]
  },
  {
   "cell_type": "code",
   "execution_count": 11,
   "metadata": {},
   "outputs": [
    {
     "data": {
      "text/html": [
       "<div>\n",
       "<style>\n",
       "    .dataframe thead tr:only-child th {\n",
       "        text-align: right;\n",
       "    }\n",
       "\n",
       "    .dataframe thead th {\n",
       "        text-align: left;\n",
       "    }\n",
       "\n",
       "    .dataframe tbody tr th {\n",
       "        vertical-align: top;\n",
       "    }\n",
       "</style>\n",
       "<table border=\"1\" class=\"dataframe\">\n",
       "  <thead>\n",
       "    <tr style=\"text-align: right;\">\n",
       "      <th></th>\n",
       "      <th>0</th>\n",
       "      <th>1</th>\n",
       "      <th>2</th>\n",
       "      <th>3</th>\n",
       "      <th>4</th>\n",
       "      <th>5</th>\n",
       "      <th>6</th>\n",
       "      <th>7</th>\n",
       "      <th>8</th>\n",
       "      <th>9</th>\n",
       "      <th>...</th>\n",
       "      <th>2906</th>\n",
       "      <th>2907</th>\n",
       "      <th>2908</th>\n",
       "      <th>2909</th>\n",
       "      <th>2910</th>\n",
       "      <th>2911</th>\n",
       "      <th>2912</th>\n",
       "      <th>2913</th>\n",
       "      <th>2914</th>\n",
       "      <th>2915</th>\n",
       "    </tr>\n",
       "  </thead>\n",
       "  <tbody>\n",
       "    <tr>\n",
       "      <th>0</th>\n",
       "      <td>0.065246</td>\n",
       "      <td>0.004675</td>\n",
       "      <td>0.016123</td>\n",
       "      <td>0.080632</td>\n",
       "      <td>0.281564</td>\n",
       "      <td>0.281564</td>\n",
       "      <td>0.233368</td>\n",
       "      <td>0.150354</td>\n",
       "      <td>0.124960</td>\n",
       "      <td>0.024368</td>\n",
       "      <td>...</td>\n",
       "      <td>0.212822</td>\n",
       "      <td>0.197123</td>\n",
       "      <td>0.124357</td>\n",
       "      <td>0.168909</td>\n",
       "      <td>0.066792</td>\n",
       "      <td>0.187185</td>\n",
       "      <td>0.119579</td>\n",
       "      <td>0.232999</td>\n",
       "      <td>0.232999</td>\n",
       "      <td>0.232999</td>\n",
       "    </tr>\n",
       "    <tr>\n",
       "      <th>1</th>\n",
       "      <td>0.082103</td>\n",
       "      <td>0.048790</td>\n",
       "      <td>0.048760</td>\n",
       "      <td>0.062278</td>\n",
       "      <td>0.159687</td>\n",
       "      <td>0.182345</td>\n",
       "      <td>0.258243</td>\n",
       "      <td>0.215005</td>\n",
       "      <td>0.149029</td>\n",
       "      <td>0.191286</td>\n",
       "      <td>...</td>\n",
       "      <td>0.038926</td>\n",
       "      <td>0.090554</td>\n",
       "      <td>0.104699</td>\n",
       "      <td>0.084715</td>\n",
       "      <td>0.166916</td>\n",
       "      <td>0.151900</td>\n",
       "      <td>0.018924</td>\n",
       "      <td>0.026313</td>\n",
       "      <td>0.030049</td>\n",
       "      <td>0.047910</td>\n",
       "    </tr>\n",
       "    <tr>\n",
       "      <th>2</th>\n",
       "      <td>0.057779</td>\n",
       "      <td>0.133151</td>\n",
       "      <td>0.249130</td>\n",
       "      <td>0.250368</td>\n",
       "      <td>0.119890</td>\n",
       "      <td>0.031018</td>\n",
       "      <td>0.013709</td>\n",
       "      <td>0.012134</td>\n",
       "      <td>0.033981</td>\n",
       "      <td>0.045351</td>\n",
       "      <td>...</td>\n",
       "      <td>0.016213</td>\n",
       "      <td>0.014438</td>\n",
       "      <td>0.045619</td>\n",
       "      <td>0.095414</td>\n",
       "      <td>0.273813</td>\n",
       "      <td>0.273813</td>\n",
       "      <td>0.273813</td>\n",
       "      <td>0.113810</td>\n",
       "      <td>0.122799</td>\n",
       "      <td>0.033926</td>\n",
       "    </tr>\n",
       "    <tr>\n",
       "      <th>3</th>\n",
       "      <td>0.042724</td>\n",
       "      <td>0.054124</td>\n",
       "      <td>0.035580</td>\n",
       "      <td>0.055581</td>\n",
       "      <td>0.383223</td>\n",
       "      <td>0.121589</td>\n",
       "      <td>0.051460</td>\n",
       "      <td>0.036090</td>\n",
       "      <td>0.061462</td>\n",
       "      <td>0.053650</td>\n",
       "      <td>...</td>\n",
       "      <td>0.142505</td>\n",
       "      <td>0.128728</td>\n",
       "      <td>0.103967</td>\n",
       "      <td>0.053811</td>\n",
       "      <td>0.109390</td>\n",
       "      <td>0.236551</td>\n",
       "      <td>0.236551</td>\n",
       "      <td>0.234458</td>\n",
       "      <td>0.236551</td>\n",
       "      <td>0.107438</td>\n",
       "    </tr>\n",
       "    <tr>\n",
       "      <th>4</th>\n",
       "      <td>0.055803</td>\n",
       "      <td>0.043624</td>\n",
       "      <td>0.112770</td>\n",
       "      <td>0.059455</td>\n",
       "      <td>0.431857</td>\n",
       "      <td>0.431857</td>\n",
       "      <td>0.090098</td>\n",
       "      <td>0.054206</td>\n",
       "      <td>0.048868</td>\n",
       "      <td>0.069791</td>\n",
       "      <td>...</td>\n",
       "      <td>0.090165</td>\n",
       "      <td>0.103046</td>\n",
       "      <td>0.133973</td>\n",
       "      <td>0.191950</td>\n",
       "      <td>0.232532</td>\n",
       "      <td>0.232532</td>\n",
       "      <td>0.232532</td>\n",
       "      <td>0.185769</td>\n",
       "      <td>0.118096</td>\n",
       "      <td>0.120583</td>\n",
       "    </tr>\n",
       "  </tbody>\n",
       "</table>\n",
       "<p>5 rows × 2916 columns</p>\n",
       "</div>"
      ],
      "text/plain": [
       "       0         1         2         3         4         5         6     \\\n",
       "0  0.065246  0.004675  0.016123  0.080632  0.281564  0.281564  0.233368   \n",
       "1  0.082103  0.048790  0.048760  0.062278  0.159687  0.182345  0.258243   \n",
       "2  0.057779  0.133151  0.249130  0.250368  0.119890  0.031018  0.013709   \n",
       "3  0.042724  0.054124  0.035580  0.055581  0.383223  0.121589  0.051460   \n",
       "4  0.055803  0.043624  0.112770  0.059455  0.431857  0.431857  0.090098   \n",
       "\n",
       "       7         8         9       ...         2906      2907      2908  \\\n",
       "0  0.150354  0.124960  0.024368    ...     0.212822  0.197123  0.124357   \n",
       "1  0.215005  0.149029  0.191286    ...     0.038926  0.090554  0.104699   \n",
       "2  0.012134  0.033981  0.045351    ...     0.016213  0.014438  0.045619   \n",
       "3  0.036090  0.061462  0.053650    ...     0.142505  0.128728  0.103967   \n",
       "4  0.054206  0.048868  0.069791    ...     0.090165  0.103046  0.133973   \n",
       "\n",
       "       2909      2910      2911      2912      2913      2914      2915  \n",
       "0  0.168909  0.066792  0.187185  0.119579  0.232999  0.232999  0.232999  \n",
       "1  0.084715  0.166916  0.151900  0.018924  0.026313  0.030049  0.047910  \n",
       "2  0.095414  0.273813  0.273813  0.273813  0.113810  0.122799  0.033926  \n",
       "3  0.053811  0.109390  0.236551  0.236551  0.234458  0.236551  0.107438  \n",
       "4  0.191950  0.232532  0.232532  0.232532  0.185769  0.118096  0.120583  \n",
       "\n",
       "[5 rows x 2916 columns]"
      ]
     },
     "execution_count": 11,
     "metadata": {},
     "output_type": "execute_result"
    }
   ],
   "source": [
    "X_df.head()"
   ]
  },
  {
   "cell_type": "code",
   "execution_count": 12,
   "metadata": {},
   "outputs": [
    {
     "data": {
      "text/plain": [
       "0    0\n",
       "1    1\n",
       "2    0\n",
       "3    0\n",
       "4    0\n",
       "dtype: int64"
      ]
     },
     "execution_count": 12,
     "metadata": {},
     "output_type": "execute_result"
    }
   ],
   "source": [
    "y_df.head()"
   ]
  },
  {
   "cell_type": "markdown",
   "metadata": {},
   "source": [
    "*split data into testing/training sets*"
   ]
  },
  {
   "cell_type": "code",
   "execution_count": 13,
   "metadata": {},
   "outputs": [
    {
     "name": "stdout",
     "output_type": "stream",
     "text": [
      "Feature TRAINING data (609, 2916)\n",
      "Feature TESTING data  (153, 2916)\n",
      "Label TRAINING data   (609,)\n",
      "Label TESTING data    (153,)\n"
     ]
    }
   ],
   "source": [
    "X_train, X_test, y_train, y_test = train_test_split(X_df, y_df, test_size=0.2, random_state=2)\n",
    "\n",
    "print(\"Feature TRAINING data\", X_train.shape)\n",
    "print(\"Feature TESTING data \", X_test.shape)\n",
    "print(\"Label TRAINING data  \", y_train.shape)\n",
    "print(\"Label TESTING data   \", y_test.shape)"
   ]
  },
  {
   "cell_type": "code",
   "execution_count": 14,
   "metadata": {},
   "outputs": [
    {
     "data": {
      "text/html": [
       "<div>\n",
       "<style>\n",
       "    .dataframe thead tr:only-child th {\n",
       "        text-align: right;\n",
       "    }\n",
       "\n",
       "    .dataframe thead th {\n",
       "        text-align: left;\n",
       "    }\n",
       "\n",
       "    .dataframe tbody tr th {\n",
       "        vertical-align: top;\n",
       "    }\n",
       "</style>\n",
       "<table border=\"1\" class=\"dataframe\">\n",
       "  <thead>\n",
       "    <tr style=\"text-align: right;\">\n",
       "      <th></th>\n",
       "      <th>0</th>\n",
       "      <th>1</th>\n",
       "      <th>2</th>\n",
       "      <th>3</th>\n",
       "      <th>4</th>\n",
       "      <th>5</th>\n",
       "      <th>6</th>\n",
       "      <th>7</th>\n",
       "      <th>8</th>\n",
       "      <th>9</th>\n",
       "      <th>...</th>\n",
       "      <th>2906</th>\n",
       "      <th>2907</th>\n",
       "      <th>2908</th>\n",
       "      <th>2909</th>\n",
       "      <th>2910</th>\n",
       "      <th>2911</th>\n",
       "      <th>2912</th>\n",
       "      <th>2913</th>\n",
       "      <th>2914</th>\n",
       "      <th>2915</th>\n",
       "    </tr>\n",
       "  </thead>\n",
       "  <tbody>\n",
       "    <tr>\n",
       "      <th>327</th>\n",
       "      <td>0.025767</td>\n",
       "      <td>0.015982</td>\n",
       "      <td>0.070069</td>\n",
       "      <td>0.191530</td>\n",
       "      <td>0.281084</td>\n",
       "      <td>0.237788</td>\n",
       "      <td>0.130500</td>\n",
       "      <td>0.015893</td>\n",
       "      <td>0.009407</td>\n",
       "      <td>0.030323</td>\n",
       "      <td>...</td>\n",
       "      <td>0.184171</td>\n",
       "      <td>0.230063</td>\n",
       "      <td>0.141166</td>\n",
       "      <td>0.146060</td>\n",
       "      <td>0.218177</td>\n",
       "      <td>0.230063</td>\n",
       "      <td>0.121125</td>\n",
       "      <td>0.119048</td>\n",
       "      <td>0.136034</td>\n",
       "      <td>0.230063</td>\n",
       "    </tr>\n",
       "    <tr>\n",
       "      <th>484</th>\n",
       "      <td>0.139159</td>\n",
       "      <td>0.017029</td>\n",
       "      <td>0.044592</td>\n",
       "      <td>0.132442</td>\n",
       "      <td>0.262899</td>\n",
       "      <td>0.262899</td>\n",
       "      <td>0.222984</td>\n",
       "      <td>0.102599</td>\n",
       "      <td>0.117717</td>\n",
       "      <td>0.021842</td>\n",
       "      <td>...</td>\n",
       "      <td>0.144866</td>\n",
       "      <td>0.197446</td>\n",
       "      <td>0.189495</td>\n",
       "      <td>0.211424</td>\n",
       "      <td>0.189640</td>\n",
       "      <td>0.235130</td>\n",
       "      <td>0.230009</td>\n",
       "      <td>0.100447</td>\n",
       "      <td>0.112754</td>\n",
       "      <td>0.235130</td>\n",
       "    </tr>\n",
       "    <tr>\n",
       "      <th>445</th>\n",
       "      <td>0.035775</td>\n",
       "      <td>0.028811</td>\n",
       "      <td>0.086590</td>\n",
       "      <td>0.280188</td>\n",
       "      <td>0.280188</td>\n",
       "      <td>0.086065</td>\n",
       "      <td>0.025199</td>\n",
       "      <td>0.048916</td>\n",
       "      <td>0.026409</td>\n",
       "      <td>0.022903</td>\n",
       "      <td>...</td>\n",
       "      <td>0.089202</td>\n",
       "      <td>0.152579</td>\n",
       "      <td>0.116286</td>\n",
       "      <td>0.157529</td>\n",
       "      <td>0.135805</td>\n",
       "      <td>0.255909</td>\n",
       "      <td>0.255909</td>\n",
       "      <td>0.177000</td>\n",
       "      <td>0.075079</td>\n",
       "      <td>0.063995</td>\n",
       "    </tr>\n",
       "    <tr>\n",
       "      <th>558</th>\n",
       "      <td>0.017932</td>\n",
       "      <td>0.025776</td>\n",
       "      <td>0.008522</td>\n",
       "      <td>0.112976</td>\n",
       "      <td>0.267254</td>\n",
       "      <td>0.267254</td>\n",
       "      <td>0.245378</td>\n",
       "      <td>0.057612</td>\n",
       "      <td>0.027380</td>\n",
       "      <td>0.020743</td>\n",
       "      <td>...</td>\n",
       "      <td>0.091379</td>\n",
       "      <td>0.087914</td>\n",
       "      <td>0.053101</td>\n",
       "      <td>0.071794</td>\n",
       "      <td>0.341164</td>\n",
       "      <td>0.341164</td>\n",
       "      <td>0.341164</td>\n",
       "      <td>0.102600</td>\n",
       "      <td>0.046877</td>\n",
       "      <td>0.080845</td>\n",
       "    </tr>\n",
       "    <tr>\n",
       "      <th>182</th>\n",
       "      <td>0.277480</td>\n",
       "      <td>0.277480</td>\n",
       "      <td>0.277480</td>\n",
       "      <td>0.103247</td>\n",
       "      <td>0.050564</td>\n",
       "      <td>0.013968</td>\n",
       "      <td>0.023860</td>\n",
       "      <td>0.026735</td>\n",
       "      <td>0.062050</td>\n",
       "      <td>0.174004</td>\n",
       "      <td>...</td>\n",
       "      <td>0.052584</td>\n",
       "      <td>0.074104</td>\n",
       "      <td>0.320677</td>\n",
       "      <td>0.320677</td>\n",
       "      <td>0.121228</td>\n",
       "      <td>0.074534</td>\n",
       "      <td>0.049190</td>\n",
       "      <td>0.027637</td>\n",
       "      <td>0.053146</td>\n",
       "      <td>0.047409</td>\n",
       "    </tr>\n",
       "  </tbody>\n",
       "</table>\n",
       "<p>5 rows × 2916 columns</p>\n",
       "</div>"
      ],
      "text/plain": [
       "         0         1         2         3         4         5         6     \\\n",
       "327  0.025767  0.015982  0.070069  0.191530  0.281084  0.237788  0.130500   \n",
       "484  0.139159  0.017029  0.044592  0.132442  0.262899  0.262899  0.222984   \n",
       "445  0.035775  0.028811  0.086590  0.280188  0.280188  0.086065  0.025199   \n",
       "558  0.017932  0.025776  0.008522  0.112976  0.267254  0.267254  0.245378   \n",
       "182  0.277480  0.277480  0.277480  0.103247  0.050564  0.013968  0.023860   \n",
       "\n",
       "         7         8         9       ...         2906      2907      2908  \\\n",
       "327  0.015893  0.009407  0.030323    ...     0.184171  0.230063  0.141166   \n",
       "484  0.102599  0.117717  0.021842    ...     0.144866  0.197446  0.189495   \n",
       "445  0.048916  0.026409  0.022903    ...     0.089202  0.152579  0.116286   \n",
       "558  0.057612  0.027380  0.020743    ...     0.091379  0.087914  0.053101   \n",
       "182  0.026735  0.062050  0.174004    ...     0.052584  0.074104  0.320677   \n",
       "\n",
       "         2909      2910      2911      2912      2913      2914      2915  \n",
       "327  0.146060  0.218177  0.230063  0.121125  0.119048  0.136034  0.230063  \n",
       "484  0.211424  0.189640  0.235130  0.230009  0.100447  0.112754  0.235130  \n",
       "445  0.157529  0.135805  0.255909  0.255909  0.177000  0.075079  0.063995  \n",
       "558  0.071794  0.341164  0.341164  0.341164  0.102600  0.046877  0.080845  \n",
       "182  0.320677  0.121228  0.074534  0.049190  0.027637  0.053146  0.047409  \n",
       "\n",
       "[5 rows x 2916 columns]"
      ]
     },
     "execution_count": 14,
     "metadata": {},
     "output_type": "execute_result"
    }
   ],
   "source": [
    "X_train.head()"
   ]
  },
  {
   "cell_type": "code",
   "execution_count": 15,
   "metadata": {},
   "outputs": [
    {
     "data": {
      "text/plain": [
       "327    0\n",
       "484    0\n",
       "445    0\n",
       "558    0\n",
       "182    1\n",
       "dtype: int64"
      ]
     },
     "execution_count": 15,
     "metadata": {},
     "output_type": "execute_result"
    }
   ],
   "source": [
    "y_train.head()"
   ]
  },
  {
   "cell_type": "markdown",
   "metadata": {},
   "source": [
    "*train SVM*"
   ]
  },
  {
   "cell_type": "code",
   "execution_count": 16,
   "metadata": {},
   "outputs": [
    {
     "data": {
      "text/plain": [
       "SVC(C=0.1, cache_size=200, class_weight=None, coef0=0.0,\n",
       "  decision_function_shape='ovr', degree=3, gamma='auto', kernel='linear',\n",
       "  max_iter=-1, probability=True, random_state=2, shrinking=True, tol=0.001,\n",
       "  verbose=False)"
      ]
     },
     "execution_count": 16,
     "metadata": {},
     "output_type": "execute_result"
    }
   ],
   "source": [
    "svm = SVC(C = 0.1, kernel=\"linear\", probability=True, random_state=2)\n",
    "svm.fit(X_train, y_train)"
   ]
  },
  {
   "cell_type": "markdown",
   "metadata": {},
   "source": [
    "*test/predict*"
   ]
  },
  {
   "cell_type": "code",
   "execution_count": 17,
   "metadata": {},
   "outputs": [
    {
     "name": "stdout",
     "output_type": "stream",
     "text": [
      "Misclassified samples: 4\n",
      "\n",
      "Prediction:\n",
      " [1 0 0 1 1 1 0 1 1 0 0 0 1 1 0 1 0 0 1 1 0 0 0 1 0 0 0 0 1 1 0 0 1 0 1 0 0\n",
      " 0 1 0 0 0 0 1 0 0 1 1 0 0 0 0 1 0 1 0 0 1 0 0 0 0 0 1 1 0 1 0 0 0 0 0 1 0\n",
      " 0 0 0 1 0 0 1 1 0 1 1 1 1 0 1 0 0 0 0 0 1 0 0 0 0 0 0 0 1 0 1 0 0 0 0 1 0\n",
      " 1 0 0 0 0 1 1 0 1 1 0 0 0 1 0 0 0 0 0 0 0 0 1 1 0 1 0 0 1 0 1 0 0 0 0 1 0\n",
      " 0 1 0 0 1]\n"
     ]
    }
   ],
   "source": [
    "y_predict = svm.predict(X_test)\n",
    "\n",
    "print(\"Misclassified samples: %d\" % (y_test != y_predict).sum() )\n",
    "print(\"\\nPrediction:\\n\", y_predict)"
   ]
  },
  {
   "cell_type": "markdown",
   "metadata": {},
   "source": [
    "*score*"
   ]
  },
  {
   "cell_type": "code",
   "execution_count": 18,
   "metadata": {},
   "outputs": [
    {
     "name": "stdout",
     "output_type": "stream",
     "text": [
      "0.9983579638752053\n"
     ]
    }
   ],
   "source": [
    "print(svm.score(X_train, y_train) ) # training.."
   ]
  },
  {
   "cell_type": "markdown",
   "metadata": {},
   "source": [
    "*check accuracy*"
   ]
  },
  {
   "cell_type": "code",
   "execution_count": 19,
   "metadata": {},
   "outputs": [
    {
     "name": "stdout",
     "output_type": "stream",
     "text": [
      "Test Accuracy: 0.9738562091503268\n"
     ]
    }
   ],
   "source": [
    "print(\"Test Accuracy:\", svm.score(X_test, y_test) )"
   ]
  },
  {
   "cell_type": "markdown",
   "metadata": {},
   "source": [
    "*confusion matrix*"
   ]
  },
  {
   "cell_type": "code",
   "execution_count": 20,
   "metadata": {},
   "outputs": [
    {
     "name": "stdout",
     "output_type": "stream",
     "text": [
      "\n",
      "Confusion Matrix:\n",
      "\n",
      " [[98  2]\n",
      " [ 2 51]]\n"
     ]
    }
   ],
   "source": [
    "svm_conf_mat = confusion_matrix(y_test, y_predict)\n",
    "print(\"\\nConfusion Matrix:\\n\\n\", svm_conf_mat)"
   ]
  },
  {
   "cell_type": "markdown",
   "metadata": {},
   "source": [
    "*classification report*"
   ]
  },
  {
   "cell_type": "code",
   "execution_count": 21,
   "metadata": {},
   "outputs": [
    {
     "name": "stdout",
     "output_type": "stream",
     "text": [
      "\n",
      "Classification report\n",
      "             precision    recall  f1-score   support\n",
      "\n",
      "          0       0.98      0.98      0.98       100\n",
      "          1       0.96      0.96      0.96        53\n",
      "\n",
      "avg / total       0.97      0.97      0.97       153\n",
      "\n"
     ]
    }
   ],
   "source": [
    "print(\"\\nClassification report\")\n",
    "print(classification_report(y_test, y_predict) )"
   ]
  },
  {
   "cell_type": "code",
   "execution_count": null,
   "metadata": {
    "collapsed": true
   },
   "outputs": [],
   "source": []
  }
 ],
 "metadata": {
  "kernelspec": {
   "display_name": "Python 3",
   "language": "python",
   "name": "python3"
  },
  "language_info": {
   "codemirror_mode": {
    "name": "ipython",
    "version": 3
   },
   "file_extension": ".py",
   "mimetype": "text/x-python",
   "name": "python",
   "nbconvert_exporter": "python",
   "pygments_lexer": "ipython3",
   "version": "3.6.5"
  }
 },
 "nbformat": 4,
 "nbformat_minor": 2
}
